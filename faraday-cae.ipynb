{
 "cells": [
  {
   "cell_type": "markdown",
   "metadata": {},
   "source": [
    "# Faraday CAE\n",
    "\n",
    "In this notebook we develop a Faraday convolutional autoencoder, and compare it to a Faraday autoencoder as well as a linear model."
   ]
  },
  {
   "cell_type": "markdown",
   "metadata": {},
   "source": [
    "## Data\n",
    "\n",
    "We'll use the COSMOLOGY_1 POSSUM field."
   ]
  },
  {
   "cell_type": "code",
   "execution_count": 1,
   "metadata": {},
   "outputs": [],
   "source": [
    "import warnings\n",
    "\n",
    "import astropy.io.fits, numpy, matplotlib.pyplot as plt, scipy.fftpack, astropy.units as units, astropy.wcs\n",
    "import astropy.nddata\n",
    "from astropy.coordinates import SkyCoord\n",
    "import pandas\n",
    "from tqdm import tqdm_notebook as tqdm\n",
    "\n",
    "q_fits = astropy.io.fits.open('/run/user/697692/gvfs/sftp:host=miasma.anu.edu.au/home/alger/possum/alger/COSMOLOGY_1/image.restored.q.SB5136.contcube.3ax.fits')\n",
    "u_fits = astropy.io.fits.open('/run/user/697692/gvfs/sftp:host=miasma.anu.edu.au/home/alger/possum/alger/COSMOLOGY_1/image.restored.u.SB5136.contcube.3ax.fits')"
   ]
  },
  {
   "cell_type": "code",
   "execution_count": 2,
   "metadata": {},
   "outputs": [],
   "source": [
    "comps = pandas.read_csv('/run/user/697692/gvfs/sftp:host=miasma.anu.edu.au/home/alger/possum/alger/source-finding/COSMOLOGY_1_P_tbl_comp.csv')"
   ]
  },
  {
   "cell_type": "code",
   "execution_count": 3,
   "metadata": {},
   "outputs": [],
   "source": [
    "with warnings.catch_warnings():\n",
    "    warnings.simplefilter('ignore')\n",
    "    wcs = astropy.wcs.WCS(q_fits[0].header).dropaxis(3).dropaxis(2)"
   ]
  },
  {
   "cell_type": "code",
   "execution_count": 4,
   "metadata": {},
   "outputs": [],
   "source": [
    "n_channels = q_fits[0].shape[0]\n",
    "crval4 = q_fits[0].header['CRVAL4']\n",
    "cdelt4 = q_fits[0].header['CDELT4']\n",
    "freqs = numpy.arange(crval4, crval4 + cdelt4 * n_channels, cdelt4)[:n_channels] * units.Hz\n",
    "wls = (astropy.constants.c / freqs).si ** 2"
   ]
  },
  {
   "cell_type": "markdown",
   "metadata": {},
   "source": [
    "Let's grab some components. These images will have noise in them too, but less than a full image would."
   ]
  },
  {
   "cell_type": "code",
   "execution_count": 5,
   "metadata": {},
   "outputs": [],
   "source": [
    "comp_coords = SkyCoord(ra=comps._ra, dec=comps._dec, unit='deg')\n",
    "test_idx = comps._peak_flux.idxmax()\n",
    "test_component = comps.iloc[test_idx]\n",
    "test_coord = comp_coords[test_idx]"
   ]
  },
  {
   "cell_type": "code",
   "execution_count": 28,
   "metadata": {},
   "outputs": [
    {
     "data": {
      "application/vnd.jupyter.widget-view+json": {
       "model_id": "69e534020c424695bf0a64bb37c211f0",
       "version_major": 2,
       "version_minor": 0
      },
      "text/plain": [
       "HBox(children=(IntProgress(value=0, max=20), HTML(value='')))"
      ]
     },
     "metadata": {},
     "output_type": "display_data"
    },
    {
     "name": "stdout",
     "output_type": "stream",
     "text": [
      "\n"
     ]
    }
   ],
   "source": [
    "# q = q_fits[0].data[:, 4000:4200, 3000:3200]\n",
    "# u = u_fits[0].data[:, 4000:4200, 3000:3200]\n",
    "qs = []\n",
    "us = []\n",
    "ps = []\n",
    "wcss = []\n",
    "for idx in tqdm(range(20)):\n",
    "    coord = comp_coords[idx]\n",
    "    q_ = astropy.nddata.Cutout2D(q_fits[0].data[0], coord, 2 * units.arcmin, wcs=wcs)\n",
    "    bbox = (slice(0, n_channels),) + tuple([slice(*b) for b in q_.bbox_original])\n",
    "    us.append(u_fits[0].data[bbox])\n",
    "    qs.append(q_fits[0].data[bbox])\n",
    "    ps.append(numpy.sqrt(us[-1] ** 2 + qs[-1] ** 2))\n",
    "    wcss.append(q_.wcs)"
   ]
  },
  {
   "cell_type": "code",
   "execution_count": 29,
   "metadata": {},
   "outputs": [],
   "source": [
    "skip_channels = [13, 14, 15, 16, 17, 18, 23, 24, 25, 26, 27, 94, 97, 98, 99, 100, 101]"
   ]
  },
  {
   "cell_type": "code",
   "execution_count": 30,
   "metadata": {},
   "outputs": [
    {
     "data": {
      "application/vnd.jupyter.widget-view+json": {
       "model_id": "b420ecaa73154721ad20c907e7040d7c",
       "version_major": 2,
       "version_minor": 0
      },
      "text/plain": [
       "HBox(children=(IntProgress(value=0, max=20), HTML(value='')))"
      ]
     },
     "metadata": {},
     "output_type": "display_data"
    },
    {
     "name": "stdout",
     "output_type": "stream",
     "text": [
      "\n"
     ]
    },
    {
     "data": {
      "application/vnd.jupyter.widget-view+json": {
       "model_id": "1c70cc1f74414277b2cb41cbb9222866",
       "version_major": 2,
       "version_minor": 0
      },
      "text/plain": [
       "HBox(children=(IntProgress(value=0, max=20), HTML(value='')))"
      ]
     },
     "metadata": {},
     "output_type": "display_data"
    },
    {
     "name": "stdout",
     "output_type": "stream",
     "text": [
      "\n"
     ]
    }
   ],
   "source": [
    "for q in tqdm(qs):\n",
    "    q[skip_channels] = numpy.nan\n",
    "for u in tqdm(us):\n",
    "    u[skip_channels] = numpy.nan"
   ]
  },
  {
   "cell_type": "markdown",
   "metadata": {},
   "source": [
    "Next we'll Fourier transform Q/U along $\\lambda^2$. We will do this by assuming that our observations in $\\lambda^2$ are samples."
   ]
  },
  {
   "cell_type": "code",
   "execution_count": 57,
   "metadata": {},
   "outputs": [
    {
     "data": {
      "text/plain": [
       "(102, 1680)"
      ]
     },
     "execution_count": 57,
     "metadata": {},
     "output_type": "execute_result"
    }
   ],
   "source": [
    "percentile_90 = numpy.percentile(numpy.nanmean(ps, axis=1), 90, axis=(1, 2))\n",
    "p_masks = numpy.nanmean(ps, axis=1) > percentile_90[:, None, None]\n",
    "pixels = [q[:, m] + 1j * u[:, m] for q, u, m in zip(qs, us, p_masks)]\n",
    "pixels = numpy.concatenate(pixels, axis=1)\n",
    "pixels.shape"
   ]
  },
  {
   "cell_type": "code",
   "execution_count": 64,
   "metadata": {},
   "outputs": [],
   "source": [
    "# Mainly based on RM-tools\n",
    "n_samples = 10  # across RMSF\n",
    "# Faraday depth range\n",
    "d_freq = numpy.nanmin(numpy.abs(numpy.diff(freqs)))\n",
    "wls_range = wls.max() - wls.min()\n",
    "d_wls_min = numpy.min(numpy.abs(numpy.diff(wls)))\n",
    "d_wls_max = numpy.max(numpy.abs(numpy.diff(wls)))\n",
    "# Set the Faraday depth range\n",
    "fwhm_rmsf = 2 * numpy.sqrt(3) / wls_range * units.rad\n",
    "d_phi = fwhm_rmsf / n_samples\n",
    "phi_max = max(600 / units.m ** 2, numpy.sqrt(3) / d_wls_max) * units.rad\n",
    "# Faraday depth sampling. Zero always centred on middle channel\n",
    "n_channels_rm = round(abs((phi_max - 0) / d_phi).value) * 2 + 1\n",
    "start_phi = -(n_channels_rm - 1) * d_phi / 2\n",
    "stop_phi =  +(n_channels_rm - 1) * d_phi / 2\n",
    "# Make a phi sample array\n",
    "phi_array = numpy.linspace(start_phi, stop_phi, n_channels_rm)\n",
    "data_mask = numpy.isnan(pixels)\n",
    "weights = data_mask != 1\n",
    "p_cube = weights * pixels\n",
    "# Initialise the complex Faraday Dispersion Function (FDF) cube\n",
    "n_px = pixels.shape[1]\n",
    "n_phi = phi_array.shape[0]\n",
    "fdf_cube = numpy.zeros((n_px, n_phi), dtype=complex)\n",
    "# Get the weighted mean of the LambdaSq distribution (B&dB Eqn. 32)\n",
    "K = 1 / numpy.nansum(weights)\n",
    "wls_0 = K * numpy.nansum(weights * wls[:, None])\n",
    "a = (-2 * 1j * phi_array)\n",
    "b = (wls - wls_0) \n",
    "arg = numpy.exp(numpy.outer(a, b))\n",
    "n_pixels = n_px\n",
    "for k in (range(n_px)):\n",
    "    fdf_cube[k, :] = K * numpy.nansum(p_cube[:, k] * arg, axis=1)"
   ]
  },
  {
   "cell_type": "code",
   "execution_count": 72,
   "metadata": {},
   "outputs": [
    {
     "data": {
      "image/png": "[encoded data removed]",
      "text/plain": [
       "<Figure size 432x288 with 1 Axes>"
      ]
     },
     "metadata": {
      "needs_background": "light"
     },
     "output_type": "display_data"
    }
   ],
   "source": [
    "plt.plot(phi_array, abs(fdf_cube[:100]).T, c='k', alpha=0.1);"
   ]
  },
  {
   "cell_type": "markdown",
   "metadata": {},
   "source": [
    "We now have some Faraday spectra. Let's build a simple autoencoder for this data."
   ]
  },
  {
   "cell_type": "code",
   "execution_count": 76,
   "metadata": {},
   "outputs": [],
   "source": [
    "import torch, torch.nn as nn\n",
    "from torch.autograd import Variable"
   ]
  },
  {
   "cell_type": "code",
   "execution_count": 170,
   "metadata": {},
   "outputs": [],
   "source": [
    "class Model(nn.Module):\n",
    "    def __init__(self, n_inputs, n_hidden=10):\n",
    "        super().__init__()\n",
    "        self.n_inputs = n_inputs\n",
    "        self.n_hidden = n_hidden\n",
    "        self.encode_conv = nn.Sequential(\n",
    "            nn.Conv1d(1, 64, 3, padding=1),\n",
    "            nn.ReLU(),\n",
    "            nn.Conv1d(64, 32, 3, padding=1),\n",
    "            nn.ReLU()\n",
    "        )\n",
    "        self.encode_linear = nn.Sequential(\n",
    "            nn.Linear(n_inputs * 32, n_hidden),\n",
    "            nn.ReLU(),\n",
    "        )\n",
    "        self.decode_linear = nn.Sequential(\n",
    "            nn.Linear(n_hidden, n_inputs * 32),\n",
    "            nn.ReLU(),\n",
    "        )\n",
    "        self.decode_conv = nn.Sequential(\n",
    "            nn.ConvTranspose1d(32, 64, 3, padding=1),\n",
    "            nn.ReLU(),\n",
    "            nn.ConvTranspose1d(64, 1, 3, padding=1),\n",
    "            nn.ReLU(),  #  assumes non-negative output\n",
    "        )\n",
    "\n",
    "    def encode(self, x):\n",
    "        x = self.encode_conv(x)\n",
    "        x = x.view(-1, self.n_inputs * 32)\n",
    "        return self.encode_linear(x)\n",
    "\n",
    "    def decode(self, x):\n",
    "        x = self.decode_linear(x).view(-1, 32, self.n_inputs)\n",
    "        return self.decode_conv(x)\n",
    "    \n",
    "    def forward(self, x):\n",
    "        return self.decode(self.encode(x))"
   ]
  },
  {
   "cell_type": "code",
   "execution_count": 157,
   "metadata": {},
   "outputs": [],
   "source": [
    "model = Model(n_phi).double()"
   ]
  },
  {
   "cell_type": "code",
   "execution_count": 158,
   "metadata": {},
   "outputs": [],
   "source": [
    "encoded = model.encode(torch.from_numpy(abs(fdf_cube[:15, None, :])))\n",
    "decoded = model.decode(encoded)"
   ]
  },
  {
   "cell_type": "code",
   "execution_count": 165,
   "metadata": {},
   "outputs": [],
   "source": [
    "torch_fdf_cube = torch.from_numpy(abs(fdf_cube[:, None, :]))\n",
    "torch_fdf_cube = torch_fdf_cube / torch_fdf_cube.max()"
   ]
  },
  {
   "cell_type": "code",
   "execution_count": 166,
   "metadata": {},
   "outputs": [
    {
     "data": {
      "application/vnd.jupyter.widget-view+json": {
       "model_id": "cba315c2d4be4a998a8619cba5b11e14",
       "version_major": 2,
       "version_minor": 0
      },
      "text/plain": [
       "HBox(children=(IntProgress(value=0, max=5), HTML(value='')))"
      ]
     },
     "metadata": {},
     "output_type": "display_data"
    }
   ],
   "source": [
    "model = Model(n_phi).double()\n",
    "criterion = nn.MSELoss()\n",
    "learning_rate = 1e-3\n",
    "optimiser = torch.optim.Adam(model.parameters(), lr=learning_rate, weight_decay=1e-5)\n",
    "n_epochs = 5\n",
    "bar = tqdm(total=n_epochs)\n",
    "for epoch in range(n_epochs):\n",
    "    output = model(torch_fdf_cube)\n",
    "    loss = criterion(output, torch_fdf_cube)\n",
    "    optimiser.zero_grad()\n",
    "    loss.backward()\n",
    "    optimiser.step()\n",
    "    bar.update(1)\n",
    "    bar.postfix = ' {:.2e}'.format(loss.item())"
   ]
  },
  {
   "cell_type": "code",
   "execution_count": 169,
   "metadata": {},
   "outputs": [
    {
     "data": {
      "text/plain": [
       "tensor([[[0.0035, 0.0039, 0.0044,  ..., 0.0121, 0.0137, 0.0148]],\n",
       "\n",
       "        [[0.0003, 0.0021, 0.0037,  ..., 0.0110, 0.0128, 0.0141]],\n",
       "\n",
       "        [[0.0036, 0.0027, 0.0031,  ..., 0.0102, 0.0114, 0.0123]],\n",
       "\n",
       "        ...,\n",
       "\n",
       "        [[0.0024, 0.0031, 0.0037,  ..., 0.0030, 0.0041, 0.0055]],\n",
       "\n",
       "        [[0.0036, 0.0033, 0.0030,  ..., 0.0032, 0.0036, 0.0045]],\n",
       "\n",
       "        [[0.0034, 0.0039, 0.0044,  ..., 0.0032, 0.0040, 0.0050]]],\n",
       "       dtype=torch.float64)"
      ]
     },
     "execution_count": 169,
     "metadata": {},
     "output_type": "execute_result"
    }
   ],
   "source": [
    "torch_fdf_cube"
   ]
  },
  {
   "cell_type": "code",
   "execution_count": null,
   "metadata": {},
   "outputs": [],
   "source": []
  }
 ],
 "metadata": {
  "kernelspec": {
   "display_name": "Python 3",
   "language": "python",
   "name": "python3"
  },
  "language_info": {
   "codemirror_mode": {
    "name": "ipython",
    "version": 3
   },
   "file_extension": ".py",
   "mimetype": "text/x-python",
   "name": "python",
   "nbconvert_exporter": "python",
   "pygments_lexer": "ipython3",
   "version": "3.6.6"
  }
 },
 "nbformat": 4,
 "nbformat_minor": 2
}
